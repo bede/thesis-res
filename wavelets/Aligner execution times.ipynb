{
 "cells": [
  {
   "cell_type": "markdown",
   "metadata": {},
   "source": [
    "# Compilation of aligner execution times table\n",
    "\n",
    "Compiles execution times from aligner output into the table in Chapter 2"
   ]
  },
  {
   "cell_type": "code",
   "execution_count": 1,
   "metadata": {},
   "outputs": [],
   "source": [
    "import os\n",
    "\n",
    "from datetime import datetime\n",
    "from collections import defaultdict\n",
    "\n",
    "root_path = os.getcwd() + '/exec_times/'\n",
    "os.chdir(root_path)"
   ]
  },
  {
   "cell_type": "markdown",
   "metadata": {},
   "source": [
    "## *i)* Other aligner timings"
   ]
  },
  {
   "cell_type": "code",
   "execution_count": 2,
   "metadata": {},
   "outputs": [],
   "source": [
    "aligners_filenames = {\n",
    "    'bt2': 'bt2_ecoli_sim.txt',\n",
    "    'bwa': 'bwa_ecoli_sim.txt',\n",
    "    'mosaik': 'mosaik_ecoli_sim.txt',\n",
    "    'segemehl': 'segemehl_ecoli_sim.txt'\n",
    "}"
   ]
  },
  {
   "cell_type": "code",
   "execution_count": 3,
   "metadata": {},
   "outputs": [
    {
     "data": {
      "text/plain": [
       "defaultdict(collections.defaultdict,\n",
       "            {'bt2': defaultdict(None,\n",
       "                         {'sim_E_coli_1000000x400_ind0_sub0': 374,\n",
       "                          'sim_E_coli_1000000x400_ind0_sub1': 4314,\n",
       "                          'sim_E_coli_1000000x400_ind0_sub2': 4346,\n",
       "                          'sim_E_coli_1000000x400_ind0_sub3': 4144,\n",
       "                          'sim_E_coli_1000000x400_ind0_sub4': 3938,\n",
       "                          'sim_E_coli_1000000x400_ind0_sub5': 3751,\n",
       "                          'sim_E_coli_1000000x400_ind1_sub0': 4233,\n",
       "                          'sim_E_coli_1000000x400_ind1_sub1': 4271,\n",
       "                          'sim_E_coli_1000000x400_ind2_sub0': 4249,\n",
       "                          'sim_E_coli_1000000x400_ind2_sub2': 4004,\n",
       "                          'sim_E_coli_1000000x400_ind3_sub0': 3977,\n",
       "                          'sim_E_coli_1000000x400_ind3_sub3': 3559,\n",
       "                          'sim_E_coli_1000000x400_ind4_sub0': 3708,\n",
       "                          'sim_E_coli_1000000x400_ind4_sub4': 3218,\n",
       "                          'sim_E_coli_1000000x400_ind5_sub0': 3603,\n",
       "                          'sim_E_coli_1000000x400_ind5_sub5': 2971}),\n",
       "             'bwa': defaultdict(None,\n",
       "                         {'sim_E_coli_1000000x400_ind0_sub0.fastq': 143,\n",
       "                          'sim_E_coli_1000000x400_ind0_sub1': 488,\n",
       "                          'sim_E_coli_1000000x400_ind0_sub2': 708,\n",
       "                          'sim_E_coli_1000000x400_ind0_sub3': 852,\n",
       "                          'sim_E_coli_1000000x400_ind0_sub4': 962,\n",
       "                          'sim_E_coli_1000000x400_ind0_sub5': 1047,\n",
       "                          'sim_E_coli_1000000x400_ind1_sub0': 548,\n",
       "                          'sim_E_coli_1000000x400_ind1_sub1': 773,\n",
       "                          'sim_E_coli_1000000x400_ind2_sub0': 683,\n",
       "                          'sim_E_coli_1000000x400_ind2_sub2': 993,\n",
       "                          'sim_E_coli_1000000x400_ind3_sub0': 1006,\n",
       "                          'sim_E_coli_1000000x400_ind3_sub3': 1160,\n",
       "                          'sim_E_coli_1000000x400_ind4_sub0': 1122,\n",
       "                          'sim_E_coli_1000000x400_ind4_sub4': 1158,\n",
       "                          'sim_E_coli_1000000x400_ind5_sub0': 1156,\n",
       "                          'sim_E_coli_1000000x400_ind5_sub5': 1126}),\n",
       "             'mosaik': defaultdict(None,\n",
       "                         {'sim_E_coli_1000000x400_ind0_sub0': 1153,\n",
       "                          'sim_E_coli_1000000x400_ind0_sub1': 1113,\n",
       "                          'sim_E_coli_1000000x400_ind0_sub2': 1159,\n",
       "                          'sim_E_coli_1000000x400_ind0_sub3': 1239,\n",
       "                          'sim_E_coli_1000000x400_ind0_sub4': 1325,\n",
       "                          'sim_E_coli_1000000x400_ind0_sub5': 1404,\n",
       "                          'sim_E_coli_1000000x400_ind1_sub0.': 1866,\n",
       "                          'sim_E_coli_1000000x400_ind1_sub1': 1821,\n",
       "                          'sim_E_coli_1000000x400_ind2_sub0': 2049,\n",
       "                          'sim_E_coli_1000000x400_ind2_sub2': 1895,\n",
       "                          'sim_E_coli_1000000x400_ind3_sub0': 2183,\n",
       "                          'sim_E_coli_1000000x400_ind3_sub3': 1675,\n",
       "                          'sim_E_coli_1000000x400_ind4_sub0': 2033,\n",
       "                          'sim_E_coli_1000000x400_ind4_sub4': 1287,\n",
       "                          'sim_E_coli_1000000x400_ind5_sub0': 1913,\n",
       "                          'sim_E_coli_1000000x400_ind5_sub5': 1014}),\n",
       "             'segemehl': defaultdict(None,\n",
       "                         {'sim_E_coli_1000000x400_ind0_sub0': 279,\n",
       "                          'sim_E_coli_1000000x400_ind0_sub1': 14503,\n",
       "                          'sim_E_coli_1000000x400_ind0_sub2': 14710,\n",
       "                          'sim_E_coli_1000000x400_ind0_sub3': 13903,\n",
       "                          'sim_E_coli_1000000x400_ind0_sub4': 13852,\n",
       "                          'sim_E_coli_1000000x400_ind0_sub5': 13509,\n",
       "                          'sim_E_coli_1000000x400_ind1_sub0': 13125,\n",
       "                          'sim_E_coli_1000000x400_ind1_sub1': 13709,\n",
       "                          'sim_E_coli_1000000x400_ind2_sub0': 12078,\n",
       "                          'sim_E_coli_1000000x400_ind2_sub2': 12592,\n",
       "                          'sim_E_coli_1000000x400_ind3_sub0': 12424,\n",
       "                          'sim_E_coli_1000000x400_ind3_sub3': 12621,\n",
       "                          'sim_E_coli_1000000x400_ind4_sub0': 12303,\n",
       "                          'sim_E_coli_1000000x400_ind4_sub4': 12324,\n",
       "                          'sim_E_coli_1000000x400_ind5_sub0': 12451,\n",
       "                          'sim_E_coli_1000000x400_ind5_sub5': 12299})})"
      ]
     },
     "execution_count": 3,
     "metadata": {},
     "output_type": "execute_result"
    }
   ],
   "source": [
    "timings = defaultdict(defaultdict)\n",
    "\n",
    "for aligner, fn in aligners_filenames.items():\n",
    "    with open(fn, 'r') as timings_fh:\n",
    "        for line in timings_fh:\n",
    "            if line.startswith('sim_E_coli_'):\n",
    "                reads_name = line.strip()\n",
    "            elif line.startswith('real'):\n",
    "                timing = line.partition('real')[2].strip()  # Bareback parsing of bash `time` cmd output \n",
    "                mins, secs = timing[:-5].split('m')\n",
    "#                 print(mins, secs)\n",
    "                timing_secs = int(mins)*60 + int(secs)\n",
    "                timings[aligner][reads_name] = timing_secs\n",
    "\n",
    "timings"
   ]
  },
  {
   "cell_type": "code",
   "execution_count": 4,
   "metadata": {},
   "outputs": [
    {
     "name": "stdout",
     "output_type": "stream",
     "text": [
      "bt2 58660s\n",
      "bwa 13925s\n",
      "mosaik 25129s\n",
      "segemehl 196682s\n"
     ]
    }
   ],
   "source": [
    "overall_timings = {}\n",
    "\n",
    "for aligner, aligner_timings in timings.items():\n",
    "    aligner_total = sum([time for time in aligner_timings.values()])\n",
    "    overall_timings[aligner] = aligner_total\n",
    "    print(f'{aligner} {aligner_total}s')"
   ]
  },
  {
   "cell_type": "markdown",
   "metadata": {},
   "source": [
    "## *ii)* Time series aligner timings\n",
    "\n",
    "Dir named `last_resort_ecoli` due to *unfounded* fear of needing to use file modification times, which was thankfully unnecessary."
   ]
  },
  {
   "cell_type": "code",
   "execution_count": 6,
   "metadata": {},
   "outputs": [
    {
     "data": {
      "text/plain": [
       "{'sim_E_coli_1000000x400_ind0_sub0.fastq_Voss_indicators_100kmer_DFT_008complvl_non_exhaustive_settings_non_shuffle_reads_KNN_5.txt': 2548,\n",
       " 'sim_E_coli_1000000x400_ind0_sub0.fastq_Voss_indicators_100kmer_DWT_008complvl_non_exhaustive_settings_non_shuffle_reads_KNN_5.txt': 1906,\n",
       " 'sim_E_coli_1000000x400_ind0_sub0.fastq_Voss_indicators_100kmer_PAA_008complvl_non_exhaustive_settings_non_shuffle_reads_KNN_5.txt': 1941,\n",
       " 'sim_E_coli_1000000x400_ind0_sub0.fastq_Voss_indicators_150kmer_DFT_008complvl_non_exhaustive_settings_non_shuffle_reads_KNN_5.txt': 2521,\n",
       " 'sim_E_coli_1000000x400_ind0_sub0.fastq_Voss_indicators_150kmer_DWT_008complvl_non_exhaustive_settings_non_shuffle_reads_KNN_5.txt': 1773,\n",
       " 'sim_E_coli_1000000x400_ind0_sub0.fastq_Voss_indicators_150kmer_PAA_008complvl_non_exhaustive_settings_non_shuffle_reads_KNN_5.txt': 1923,\n",
       " 'sim_E_coli_1000000x400_ind0_sub0.fastq_Voss_indicators_200kmer_DFT_008complvl_non_exhaustive_settings_non_shuffle_reads_KNN_5.txt': 2538,\n",
       " 'sim_E_coli_1000000x400_ind0_sub0.fastq_Voss_indicators_200kmer_DWT_008complvl_non_exhaustive_settings_non_shuffle_reads_KNN_5.txt': 1939,\n",
       " 'sim_E_coli_1000000x400_ind0_sub0.fastq_Voss_indicators_200kmer_PAA_008complvl_non_exhaustive_settings_non_shuffle_reads_KNN_5.txt': 2052,\n",
       " 'sim_E_coli_1000000x400_ind0_sub0.fastq_Voss_indicators_250kmer_DFT_008complvl_non_exhaustive_settings_non_shuffle_reads_KNN_5.txt': 2712,\n",
       " 'sim_E_coli_1000000x400_ind0_sub0.fastq_Voss_indicators_250kmer_DWT_008complvl_non_exhaustive_settings_non_shuffle_reads_KNN_5.txt': 2086,\n",
       " 'sim_E_coli_1000000x400_ind0_sub0.fastq_Voss_indicators_250kmer_PAA_008complvl_non_exhaustive_settings_non_shuffle_reads_KNN_5.txt': 2039,\n",
       " 'sim_E_coli_1000000x400_ind0_sub0.fastq_Voss_indicators_300kmer_DFT_008complvl_non_exhaustive_settings_non_shuffle_reads_KNN_5.txt': 2817,\n",
       " 'sim_E_coli_1000000x400_ind0_sub0.fastq_Voss_indicators_300kmer_DWT_008complvl_non_exhaustive_settings_non_shuffle_reads_KNN_5.txt': 1951,\n",
       " 'sim_E_coli_1000000x400_ind0_sub0.fastq_Voss_indicators_300kmer_PAA_008complvl_non_exhaustive_settings_non_shuffle_reads_KNN_5.txt': 2101,\n",
       " 'sim_E_coli_1000000x400_ind0_sub1.fastq_Voss_indicators_100kmer_DFT_008complvl_non_exhaustive_settings_non_shuffle_reads_KNN_5.txt': 3396,\n",
       " 'sim_E_coli_1000000x400_ind0_sub1.fastq_Voss_indicators_100kmer_DWT_008complvl_non_exhaustive_settings_non_shuffle_reads_KNN_5.txt': 2506,\n",
       " 'sim_E_coli_1000000x400_ind0_sub1.fastq_Voss_indicators_150kmer_DFT_008complvl_non_exhaustive_settings_non_shuffle_reads_KNN_5.txt': 3381,\n",
       " 'sim_E_coli_1000000x400_ind0_sub1.fastq_Voss_indicators_150kmer_DWT_008complvl_non_exhaustive_settings_non_shuffle_reads_KNN_5.txt': 2402,\n",
       " 'sim_E_coli_1000000x400_ind0_sub1.fastq_Voss_indicators_150kmer_PAA_008complvl_non_exhaustive_settings_non_shuffle_reads_KNN_5.txt': 2841,\n",
       " 'sim_E_coli_1000000x400_ind0_sub1.fastq_Voss_indicators_200kmer_DFT_008complvl_non_exhaustive_settings_non_shuffle_reads_KNN_5.txt': 3818,\n",
       " 'sim_E_coli_1000000x400_ind0_sub1.fastq_Voss_indicators_200kmer_DWT_008complvl_non_exhaustive_settings_non_shuffle_reads_KNN_5.txt': 2753,\n",
       " 'sim_E_coli_1000000x400_ind0_sub1.fastq_Voss_indicators_200kmer_PAA_008complvl_non_exhaustive_settings_non_shuffle_reads_KNN_5.txt': 2946,\n",
       " 'sim_E_coli_1000000x400_ind0_sub1.fastq_Voss_indicators_250kmer_DFT_008complvl_non_exhaustive_settings_non_shuffle_reads_KNN_5.txt': 3978,\n",
       " 'sim_E_coli_1000000x400_ind0_sub1.fastq_Voss_indicators_250kmer_DWT_008complvl_non_exhaustive_settings_non_shuffle_reads_KNN_5.txt': 3005,\n",
       " 'sim_E_coli_1000000x400_ind0_sub1.fastq_Voss_indicators_250kmer_PAA_008complvl_non_exhaustive_settings_non_shuffle_reads_KNN_5.txt': 2959,\n",
       " 'sim_E_coli_1000000x400_ind0_sub1.fastq_Voss_indicators_300kmer_DFT_008complvl_non_exhaustive_settings_non_shuffle_reads_KNN_5.txt': 3771,\n",
       " 'sim_E_coli_1000000x400_ind0_sub1.fastq_Voss_indicators_300kmer_DWT_008complvl_non_exhaustive_settings_non_shuffle_reads_KNN_5.txt': 2619,\n",
       " 'sim_E_coli_1000000x400_ind0_sub1.fastq_Voss_indicators_300kmer_PAA_008complvl_non_exhaustive_settings_non_shuffle_reads_KNN_5.txt': 3066,\n",
       " 'sim_E_coli_1000000x400_ind0_sub2.fastq_Voss_indicators_100kmer_DFT_008complvl_non_exhaustive_settings_non_shuffle_reads_KNN_5.txt': 3883,\n",
       " 'sim_E_coli_1000000x400_ind0_sub2.fastq_Voss_indicators_100kmer_DWT_008complvl_non_exhaustive_settings_non_shuffle_reads_KNN_5.txt': 2887,\n",
       " 'sim_E_coli_1000000x400_ind0_sub2.fastq_Voss_indicators_100kmer_PAA_008complvl_non_exhaustive_settings_non_shuffle_reads_KNN_5.txt': 3064,\n",
       " 'sim_E_coli_1000000x400_ind0_sub2.fastq_Voss_indicators_150kmer_DFT_008complvl_non_exhaustive_settings_non_shuffle_reads_KNN_5.txt': 3977,\n",
       " 'sim_E_coli_1000000x400_ind0_sub2.fastq_Voss_indicators_150kmer_DWT_008complvl_non_exhaustive_settings_non_shuffle_reads_KNN_5.txt': 2870,\n",
       " 'sim_E_coli_1000000x400_ind0_sub2.fastq_Voss_indicators_150kmer_PAA_008complvl_non_exhaustive_settings_non_shuffle_reads_KNN_5.txt': 3209,\n",
       " 'sim_E_coli_1000000x400_ind0_sub2.fastq_Voss_indicators_200kmer_DFT_008complvl_non_exhaustive_settings_non_shuffle_reads_KNN_5.txt': 4216,\n",
       " 'sim_E_coli_1000000x400_ind0_sub2.fastq_Voss_indicators_200kmer_PAA_008complvl_non_exhaustive_settings_non_shuffle_reads_KNN_5.txt': 3303,\n",
       " 'sim_E_coli_1000000x400_ind0_sub2.fastq_Voss_indicators_250kmer_DFT_008complvl_non_exhaustive_settings_non_shuffle_reads_KNN_5.txt': 4359,\n",
       " 'sim_E_coli_1000000x400_ind0_sub2.fastq_Voss_indicators_250kmer_DWT_008complvl_non_exhaustive_settings_non_shuffle_reads_KNN_5.txt': 3443,\n",
       " 'sim_E_coli_1000000x400_ind0_sub2.fastq_Voss_indicators_250kmer_PAA_008complvl_non_exhaustive_settings_non_shuffle_reads_KNN_5.txt': 3271,\n",
       " 'sim_E_coli_1000000x400_ind0_sub2.fastq_Voss_indicators_300kmer_DFT_008complvl_non_exhaustive_settings_non_shuffle_reads_KNN_5.txt': 4176,\n",
       " 'sim_E_coli_1000000x400_ind0_sub2.fastq_Voss_indicators_300kmer_DWT_008complvl_non_exhaustive_settings_non_shuffle_reads_KNN_5.txt': 2948,\n",
       " 'sim_E_coli_1000000x400_ind0_sub2.fastq_Voss_indicators_300kmer_PAA_008complvl_non_exhaustive_settings_non_shuffle_reads_KNN_5.txt': 3488,\n",
       " 'sim_E_coli_1000000x400_ind0_sub3.fastq_Voss_indicators_100kmer_DFT_008complvl_non_exhaustive_settings_non_shuffle_reads_KNN_5.txt': 4281,\n",
       " 'sim_E_coli_1000000x400_ind0_sub3.fastq_Voss_indicators_100kmer_DWT_008complvl_non_exhaustive_settings_non_shuffle_reads_KNN_5.txt': 3239,\n",
       " 'sim_E_coli_1000000x400_ind0_sub3.fastq_Voss_indicators_100kmer_PAA_008complvl_non_exhaustive_settings_non_shuffle_reads_KNN_5.txt': 3331,\n",
       " 'sim_E_coli_1000000x400_ind0_sub3.fastq_Voss_indicators_150kmer_DFT_008complvl_non_exhaustive_settings_non_shuffle_reads_KNN_5.txt': 4288,\n",
       " 'sim_E_coli_1000000x400_ind0_sub3.fastq_Voss_indicators_150kmer_DWT_008complvl_non_exhaustive_settings_non_shuffle_reads_KNN_5.txt': 3135,\n",
       " 'sim_E_coli_1000000x400_ind0_sub3.fastq_Voss_indicators_150kmer_PAA_008complvl_non_exhaustive_settings_non_shuffle_reads_KNN_5.txt': 3553,\n",
       " 'sim_E_coli_1000000x400_ind0_sub3.fastq_Voss_indicators_200kmer_DFT_008complvl_non_exhaustive_settings_non_shuffle_reads_KNN_5.txt': 4475,\n",
       " 'sim_E_coli_1000000x400_ind0_sub3.fastq_Voss_indicators_200kmer_DWT_008complvl_non_exhaustive_settings_non_shuffle_reads_KNN_5.txt': 3369,\n",
       " 'sim_E_coli_1000000x400_ind0_sub3.fastq_Voss_indicators_200kmer_PAA_008complvl_non_exhaustive_settings_non_shuffle_reads_KNN_5.txt': 3599,\n",
       " 'sim_E_coli_1000000x400_ind0_sub3.fastq_Voss_indicators_250kmer_DFT_008complvl_non_exhaustive_settings_non_shuffle_reads_KNN_5.txt': 4532,\n",
       " 'sim_E_coli_1000000x400_ind0_sub3.fastq_Voss_indicators_250kmer_DWT_008complvl_non_exhaustive_settings_non_shuffle_reads_KNN_5.txt': 3632,\n",
       " 'sim_E_coli_1000000x400_ind0_sub3.fastq_Voss_indicators_250kmer_PAA_008complvl_non_exhaustive_settings_non_shuffle_reads_KNN_5.txt': 3544,\n",
       " 'sim_E_coli_1000000x400_ind0_sub3.fastq_Voss_indicators_300kmer_DFT_008complvl_non_exhaustive_settings_non_shuffle_reads_KNN_5.txt': 4245,\n",
       " 'sim_E_coli_1000000x400_ind0_sub3.fastq_Voss_indicators_300kmer_DWT_008complvl_non_exhaustive_settings_non_shuffle_reads_KNN_5.txt': 3328,\n",
       " 'sim_E_coli_1000000x400_ind0_sub3.fastq_Voss_indicators_300kmer_PAA_008complvl_non_exhaustive_settings_non_shuffle_reads_KNN_5.txt': 3683,\n",
       " 'sim_E_coli_1000000x400_ind0_sub4.fastq_Voss_indicators_100kmer_DFT_008complvl_non_exhaustive_settings_non_shuffle_reads_KNN_5.txt': 4586,\n",
       " 'sim_E_coli_1000000x400_ind0_sub4.fastq_Voss_indicators_100kmer_DWT_008complvl_non_exhaustive_settings_non_shuffle_reads_KNN_5.txt': 3441,\n",
       " 'sim_E_coli_1000000x400_ind0_sub4.fastq_Voss_indicators_100kmer_PAA_008complvl_non_exhaustive_settings_non_shuffle_reads_KNN_5.txt': 3562,\n",
       " 'sim_E_coli_1000000x400_ind0_sub4.fastq_Voss_indicators_150kmer_DFT_008complvl_non_exhaustive_settings_non_shuffle_reads_KNN_5.txt': 4417,\n",
       " 'sim_E_coli_1000000x400_ind0_sub4.fastq_Voss_indicators_150kmer_DWT_008complvl_non_exhaustive_settings_non_shuffle_reads_KNN_5.txt': 3277,\n",
       " 'sim_E_coli_1000000x400_ind0_sub4.fastq_Voss_indicators_150kmer_PAA_008complvl_non_exhaustive_settings_non_shuffle_reads_KNN_5.txt': 3644,\n",
       " 'sim_E_coli_1000000x400_ind0_sub4.fastq_Voss_indicators_200kmer_DFT_008complvl_non_exhaustive_settings_non_shuffle_reads_KNN_5.txt': 4634,\n",
       " 'sim_E_coli_1000000x400_ind0_sub4.fastq_Voss_indicators_200kmer_DWT_008complvl_non_exhaustive_settings_non_shuffle_reads_KNN_5.txt': 3534,\n",
       " 'sim_E_coli_1000000x400_ind0_sub4.fastq_Voss_indicators_200kmer_PAA_008complvl_non_exhaustive_settings_non_shuffle_reads_KNN_5.txt': 3716,\n",
       " 'sim_E_coli_1000000x400_ind0_sub4.fastq_Voss_indicators_250kmer_DFT_008complvl_non_exhaustive_settings_non_shuffle_reads_KNN_5.txt': 4736,\n",
       " 'sim_E_coli_1000000x400_ind0_sub4.fastq_Voss_indicators_250kmer_DWT_008complvl_non_exhaustive_settings_non_shuffle_reads_KNN_5.txt': 3726,\n",
       " 'sim_E_coli_1000000x400_ind0_sub4.fastq_Voss_indicators_250kmer_PAA_008complvl_non_exhaustive_settings_non_shuffle_reads_KNN_5.txt': 3681,\n",
       " 'sim_E_coli_1000000x400_ind0_sub4.fastq_Voss_indicators_300kmer_DFT_008complvl_non_exhaustive_settings_non_shuffle_reads_KNN_5.txt': 4432,\n",
       " 'sim_E_coli_1000000x400_ind0_sub4.fastq_Voss_indicators_300kmer_DWT_008complvl_non_exhaustive_settings_non_shuffle_reads_KNN_5.txt': 3389,\n",
       " 'sim_E_coli_1000000x400_ind0_sub4.fastq_Voss_indicators_300kmer_PAA_008complvl_non_exhaustive_settings_non_shuffle_reads_KNN_5.txt': 3756,\n",
       " 'sim_E_coli_1000000x400_ind0_sub5.fastq_Voss_indicators_100kmer_DFT_008complvl_non_exhaustive_settings_non_shuffle_reads_KNN_5.txt': 4643,\n",
       " 'sim_E_coli_1000000x400_ind0_sub5.fastq_Voss_indicators_100kmer_DWT_008complvl_non_exhaustive_settings_non_shuffle_reads_KNN_5.txt': 3436,\n",
       " 'sim_E_coli_1000000x400_ind0_sub5.fastq_Voss_indicators_100kmer_PAA_008complvl_non_exhaustive_settings_non_shuffle_reads_KNN_5.txt': 3667,\n",
       " 'sim_E_coli_1000000x400_ind0_sub5.fastq_Voss_indicators_150kmer_DFT_008complvl_non_exhaustive_settings_non_shuffle_reads_KNN_5.txt': 4490,\n",
       " 'sim_E_coli_1000000x400_ind0_sub5.fastq_Voss_indicators_150kmer_DWT_008complvl_non_exhaustive_settings_non_shuffle_reads_KNN_5.txt': 3417,\n",
       " 'sim_E_coli_1000000x400_ind0_sub5.fastq_Voss_indicators_150kmer_PAA_008complvl_non_exhaustive_settings_non_shuffle_reads_KNN_5.txt': 3815,\n",
       " 'sim_E_coli_1000000x400_ind0_sub5.fastq_Voss_indicators_200kmer_DFT_008complvl_non_exhaustive_settings_non_shuffle_reads_KNN_5.txt': 4705,\n",
       " 'sim_E_coli_1000000x400_ind0_sub5.fastq_Voss_indicators_200kmer_DWT_008complvl_non_exhaustive_settings_non_shuffle_reads_KNN_5.txt': 3683,\n",
       " 'sim_E_coli_1000000x400_ind0_sub5.fastq_Voss_indicators_200kmer_PAA_008complvl_non_exhaustive_settings_non_shuffle_reads_KNN_5.txt': 3792,\n",
       " 'sim_E_coli_1000000x400_ind0_sub5.fastq_Voss_indicators_250kmer_DFT_008complvl_non_exhaustive_settings_non_shuffle_reads_KNN_5.txt': 4749,\n",
       " 'sim_E_coli_1000000x400_ind0_sub5.fastq_Voss_indicators_250kmer_DWT_008complvl_non_exhaustive_settings_non_shuffle_reads_KNN_5.txt': 3804,\n",
       " 'sim_E_coli_1000000x400_ind0_sub5.fastq_Voss_indicators_250kmer_PAA_008complvl_non_exhaustive_settings_non_shuffle_reads_KNN_5.txt': 3758,\n",
       " 'sim_E_coli_1000000x400_ind0_sub5.fastq_Voss_indicators_300kmer_DFT_008complvl_non_exhaustive_settings_non_shuffle_reads_KNN_5.txt': 4526,\n",
       " 'sim_E_coli_1000000x400_ind0_sub5.fastq_Voss_indicators_300kmer_DWT_008complvl_non_exhaustive_settings_non_shuffle_reads_KNN_5.txt': 3535,\n",
       " 'sim_E_coli_1000000x400_ind0_sub5.fastq_Voss_indicators_300kmer_PAA_008complvl_non_exhaustive_settings_non_shuffle_reads_KNN_5.txt': 3718,\n",
       " 'sim_E_coli_1000000x400_ind1_sub0.fastq_Voss_indicators_100kmer_DFT_008complvl_non_exhaustive_settings_non_shuffle_reads_KNN_5.txt': 3612,\n",
       " 'sim_E_coli_1000000x400_ind1_sub0.fastq_Voss_indicators_100kmer_DWT_008complvl_non_exhaustive_settings_non_shuffle_reads_KNN_5.txt': 2703,\n",
       " 'sim_E_coli_1000000x400_ind1_sub0.fastq_Voss_indicators_100kmer_PAA_008complvl_non_exhaustive_settings_non_shuffle_reads_KNN_5.txt': 2903,\n",
       " 'sim_E_coli_1000000x400_ind1_sub0.fastq_Voss_indicators_150kmer_DFT_008complvl_non_exhaustive_settings_non_shuffle_reads_KNN_5.txt': 3757,\n",
       " 'sim_E_coli_1000000x400_ind1_sub0.fastq_Voss_indicators_150kmer_DWT_008complvl_non_exhaustive_settings_non_shuffle_reads_KNN_5.txt': 2702,\n",
       " 'sim_E_coli_1000000x400_ind1_sub0.fastq_Voss_indicators_150kmer_PAA_008complvl_non_exhaustive_settings_non_shuffle_reads_KNN_5.txt': 3117,\n",
       " 'sim_E_coli_1000000x400_ind1_sub0.fastq_Voss_indicators_200kmer_DFT_008complvl_non_exhaustive_settings_non_shuffle_reads_KNN_5.txt': 3896,\n",
       " 'sim_E_coli_1000000x400_ind1_sub0.fastq_Voss_indicators_200kmer_DWT_008complvl_non_exhaustive_settings_non_shuffle_reads_KNN_5.txt': 3072,\n",
       " 'sim_E_coli_1000000x400_ind1_sub0.fastq_Voss_indicators_200kmer_PAA_008complvl_non_exhaustive_settings_non_shuffle_reads_KNN_5.txt': 3266,\n",
       " 'sim_E_coli_1000000x400_ind1_sub0.fastq_Voss_indicators_250kmer_DFT_008complvl_non_exhaustive_settings_non_shuffle_reads_KNN_5.txt': 4232,\n",
       " 'sim_E_coli_1000000x400_ind1_sub0.fastq_Voss_indicators_250kmer_DWT_008complvl_non_exhaustive_settings_non_shuffle_reads_KNN_5.txt': 3349,\n",
       " 'sim_E_coli_1000000x400_ind1_sub0.fastq_Voss_indicators_250kmer_PAA_008complvl_non_exhaustive_settings_non_shuffle_reads_KNN_5.txt': 3284,\n",
       " 'sim_E_coli_1000000x400_ind1_sub0.fastq_Voss_indicators_300kmer_DFT_008complvl_non_exhaustive_settings_non_shuffle_reads_KNN_5.txt': 3902,\n",
       " 'sim_E_coli_1000000x400_ind1_sub0.fastq_Voss_indicators_300kmer_DWT_008complvl_non_exhaustive_settings_non_shuffle_reads_KNN_5.txt': 2839,\n",
       " 'sim_E_coli_1000000x400_ind1_sub0.fastq_Voss_indicators_300kmer_PAA_008complvl_non_exhaustive_settings_non_shuffle_reads_KNN_5.txt': 3302,\n",
       " 'sim_E_coli_1000000x400_ind1_sub1.fastq_Voss_indicators_100kmer_DFT_008complvl_non_exhaustive_settings_non_shuffle_reads_KNN_5.txt': 4168,\n",
       " 'sim_E_coli_1000000x400_ind1_sub1.fastq_Voss_indicators_100kmer_DWT_008complvl_non_exhaustive_settings_non_shuffle_reads_KNN_5.txt': 3049,\n",
       " 'sim_E_coli_1000000x400_ind1_sub1.fastq_Voss_indicators_100kmer_PAA_008complvl_non_exhaustive_settings_non_shuffle_reads_KNN_5.txt': 3281,\n",
       " 'sim_E_coli_1000000x400_ind1_sub1.fastq_Voss_indicators_150kmer_DFT_008complvl_non_exhaustive_settings_non_shuffle_reads_KNN_5.txt': 4182,\n",
       " 'sim_E_coli_1000000x400_ind1_sub1.fastq_Voss_indicators_150kmer_DWT_008complvl_non_exhaustive_settings_non_shuffle_reads_KNN_5.txt': 2982,\n",
       " 'sim_E_coli_1000000x400_ind1_sub1.fastq_Voss_indicators_150kmer_PAA_008complvl_non_exhaustive_settings_non_shuffle_reads_KNN_5.txt': 3549,\n",
       " 'sim_E_coli_1000000x400_ind1_sub1.fastq_Voss_indicators_200kmer_DFT_008complvl_non_exhaustive_settings_non_shuffle_reads_KNN_5.txt': 4496,\n",
       " 'sim_E_coli_1000000x400_ind1_sub1.fastq_Voss_indicators_200kmer_DWT_008complvl_non_exhaustive_settings_non_shuffle_reads_KNN_5.txt': 3400,\n",
       " 'sim_E_coli_1000000x400_ind1_sub1.fastq_Voss_indicators_200kmer_PAA_008complvl_non_exhaustive_settings_non_shuffle_reads_KNN_5.txt': 3687,\n",
       " 'sim_E_coli_1000000x400_ind1_sub1.fastq_Voss_indicators_250kmer_DFT_008complvl_non_exhaustive_settings_non_shuffle_reads_KNN_5.txt': 4383,\n",
       " 'sim_E_coli_1000000x400_ind1_sub1.fastq_Voss_indicators_250kmer_DWT_008complvl_non_exhaustive_settings_non_shuffle_reads_KNN_5.txt': 3581,\n",
       " 'sim_E_coli_1000000x400_ind1_sub1.fastq_Voss_indicators_250kmer_PAA_008complvl_non_exhaustive_settings_non_shuffle_reads_KNN_5.txt': 3535,\n",
       " 'sim_E_coli_1000000x400_ind1_sub1.fastq_Voss_indicators_300kmer_DFT_008complvl_non_exhaustive_settings_non_shuffle_reads_KNN_5.txt': 4273,\n",
       " 'sim_E_coli_1000000x400_ind1_sub1.fastq_Voss_indicators_300kmer_DWT_008complvl_non_exhaustive_settings_non_shuffle_reads_KNN_5.txt': 3154,\n",
       " 'sim_E_coli_1000000x400_ind1_sub1.fastq_Voss_indicators_300kmer_PAA_008complvl_non_exhaustive_settings_non_shuffle_reads_KNN_5.txt': 3655,\n",
       " 'sim_E_coli_1000000x400_ind2_sub0.fastq_Voss_indicators_100kmer_DFT_008complvl_non_exhaustive_settings_non_shuffle_reads_KNN_5.txt': 4133,\n",
       " 'sim_E_coli_1000000x400_ind2_sub0.fastq_Voss_indicators_100kmer_DWT_008complvl_non_exhaustive_settings_non_shuffle_reads_KNN_5.txt': 3056,\n",
       " 'sim_E_coli_1000000x400_ind2_sub0.fastq_Voss_indicators_100kmer_PAA_008complvl_non_exhaustive_settings_non_shuffle_reads_KNN_5.txt': 3305,\n",
       " 'sim_E_coli_1000000x400_ind2_sub0.fastq_Voss_indicators_150kmer_DFT_008complvl_non_exhaustive_settings_non_shuffle_reads_KNN_5.txt': 3946,\n",
       " 'sim_E_coli_1000000x400_ind2_sub0.fastq_Voss_indicators_150kmer_DWT_008complvl_non_exhaustive_settings_non_shuffle_reads_KNN_5.txt': 2940,\n",
       " 'sim_E_coli_1000000x400_ind2_sub0.fastq_Voss_indicators_150kmer_PAA_008complvl_non_exhaustive_settings_non_shuffle_reads_KNN_5.txt': 3487,\n",
       " 'sim_E_coli_1000000x400_ind2_sub0.fastq_Voss_indicators_200kmer_DFT_008complvl_non_exhaustive_settings_non_shuffle_reads_KNN_5.txt': 4315,\n",
       " 'sim_E_coli_1000000x400_ind2_sub0.fastq_Voss_indicators_200kmer_DWT_008complvl_non_exhaustive_settings_non_shuffle_reads_KNN_5.txt': 3353,\n",
       " 'sim_E_coli_1000000x400_ind2_sub0.fastq_Voss_indicators_200kmer_PAA_008complvl_non_exhaustive_settings_non_shuffle_reads_KNN_5.txt': 3566,\n",
       " 'sim_E_coli_1000000x400_ind2_sub0.fastq_Voss_indicators_250kmer_DFT_008complvl_non_exhaustive_settings_non_shuffle_reads_KNN_5.txt': 4403,\n",
       " 'sim_E_coli_1000000x400_ind2_sub0.fastq_Voss_indicators_250kmer_DWT_008complvl_non_exhaustive_settings_non_shuffle_reads_KNN_5.txt': 3610,\n",
       " 'sim_E_coli_1000000x400_ind2_sub0.fastq_Voss_indicators_250kmer_PAA_008complvl_non_exhaustive_settings_non_shuffle_reads_KNN_5.txt': 3342,\n",
       " 'sim_E_coli_1000000x400_ind2_sub0.fastq_Voss_indicators_300kmer_DFT_008complvl_non_exhaustive_settings_non_shuffle_reads_KNN_5.txt': 3989,\n",
       " 'sim_E_coli_1000000x400_ind2_sub0.fastq_Voss_indicators_300kmer_DWT_008complvl_non_exhaustive_settings_non_shuffle_reads_KNN_5.txt': 3132,\n",
       " 'sim_E_coli_1000000x400_ind2_sub0.fastq_Voss_indicators_300kmer_PAA_008complvl_non_exhaustive_settings_non_shuffle_reads_KNN_5.txt': 3536,\n",
       " 'sim_E_coli_1000000x400_ind2_sub2.fastq_Voss_indicators_100kmer_DFT_008complvl_non_exhaustive_settings_non_shuffle_reads_KNN_5.txt': 4722,\n",
       " 'sim_E_coli_1000000x400_ind2_sub2.fastq_Voss_indicators_100kmer_DWT_008complvl_non_exhaustive_settings_non_shuffle_reads_KNN_5.txt': 3419,\n",
       " 'sim_E_coli_1000000x400_ind2_sub2.fastq_Voss_indicators_100kmer_PAA_008complvl_non_exhaustive_settings_non_shuffle_reads_KNN_5.txt': 3728,\n",
       " 'sim_E_coli_1000000x400_ind2_sub2.fastq_Voss_indicators_150kmer_DFT_008complvl_non_exhaustive_settings_non_shuffle_reads_KNN_5.txt': 4626,\n",
       " 'sim_E_coli_1000000x400_ind2_sub2.fastq_Voss_indicators_150kmer_DWT_008complvl_non_exhaustive_settings_non_shuffle_reads_KNN_5.txt': 3339,\n",
       " 'sim_E_coli_1000000x400_ind2_sub2.fastq_Voss_indicators_150kmer_PAA_008complvl_non_exhaustive_settings_non_shuffle_reads_KNN_5.txt': 3829,\n",
       " 'sim_E_coli_1000000x400_ind2_sub2.fastq_Voss_indicators_200kmer_DFT_008complvl_non_exhaustive_settings_non_shuffle_reads_KNN_5.txt': 4811,\n",
       " 'sim_E_coli_1000000x400_ind2_sub2.fastq_Voss_indicators_200kmer_DWT_008complvl_non_exhaustive_settings_non_shuffle_reads_KNN_5.txt': 3705,\n",
       " 'sim_E_coli_1000000x400_ind2_sub2.fastq_Voss_indicators_200kmer_PAA_008complvl_non_exhaustive_settings_non_shuffle_reads_KNN_5.txt': 3825,\n",
       " 'sim_E_coli_1000000x400_ind2_sub2.fastq_Voss_indicators_250kmer_DFT_008complvl_non_exhaustive_settings_non_shuffle_reads_KNN_5.txt': 4904,\n",
       " 'sim_E_coli_1000000x400_ind2_sub2.fastq_Voss_indicators_250kmer_DWT_008complvl_non_exhaustive_settings_non_shuffle_reads_KNN_5.txt': 3894,\n",
       " 'sim_E_coli_1000000x400_ind2_sub2.fastq_Voss_indicators_250kmer_PAA_008complvl_non_exhaustive_settings_non_shuffle_reads_KNN_5.txt': 3728,\n",
       " 'sim_E_coli_1000000x400_ind2_sub2.fastq_Voss_indicators_300kmer_DFT_008complvl_non_exhaustive_settings_non_shuffle_reads_KNN_5.txt': 4597,\n",
       " 'sim_E_coli_1000000x400_ind2_sub2.fastq_Voss_indicators_300kmer_DWT_008complvl_non_exhaustive_settings_non_shuffle_reads_KNN_5.txt': 3409,\n",
       " 'sim_E_coli_1000000x400_ind2_sub2.fastq_Voss_indicators_300kmer_PAA_008complvl_non_exhaustive_settings_non_shuffle_reads_KNN_5.txt': 3850,\n",
       " 'sim_E_coli_1000000x400_ind3_sub0.fastq_Voss_indicators_100kmer_DFT_008complvl_non_exhaustive_settings_non_shuffle_reads_KNN_5.txt': 4959,\n",
       " 'sim_E_coli_1000000x400_ind3_sub0.fastq_Voss_indicators_100kmer_DWT_008complvl_non_exhaustive_settings_non_shuffle_reads_KNN_5.txt': 3598,\n",
       " 'sim_E_coli_1000000x400_ind3_sub0.fastq_Voss_indicators_100kmer_PAA_008complvl_non_exhaustive_settings_non_shuffle_reads_KNN_5.txt': 3932,\n",
       " 'sim_E_coli_1000000x400_ind3_sub0.fastq_Voss_indicators_150kmer_DFT_008complvl_non_exhaustive_settings_non_shuffle_reads_KNN_5.txt': 4725,\n",
       " 'sim_E_coli_1000000x400_ind3_sub0.fastq_Voss_indicators_150kmer_DWT_008complvl_non_exhaustive_settings_non_shuffle_reads_KNN_5.txt': 3373,\n",
       " 'sim_E_coli_1000000x400_ind3_sub0.fastq_Voss_indicators_150kmer_PAA_008complvl_non_exhaustive_settings_non_shuffle_reads_KNN_5.txt': 3895,\n",
       " 'sim_E_coli_1000000x400_ind3_sub0.fastq_Voss_indicators_200kmer_DFT_008complvl_non_exhaustive_settings_non_shuffle_reads_KNN_5.txt': 4925,\n",
       " 'sim_E_coli_1000000x400_ind3_sub0.fastq_Voss_indicators_200kmer_DWT_008complvl_non_exhaustive_settings_non_shuffle_reads_KNN_5.txt': 3765,\n",
       " 'sim_E_coli_1000000x400_ind3_sub0.fastq_Voss_indicators_200kmer_PAA_008complvl_non_exhaustive_settings_non_shuffle_reads_KNN_5.txt': 3901,\n",
       " 'sim_E_coli_1000000x400_ind3_sub0.fastq_Voss_indicators_250kmer_DFT_008complvl_non_exhaustive_settings_non_shuffle_reads_KNN_5.txt': 4646,\n",
       " 'sim_E_coli_1000000x400_ind3_sub0.fastq_Voss_indicators_250kmer_DWT_008complvl_non_exhaustive_settings_non_shuffle_reads_KNN_5.txt': 3751,\n",
       " 'sim_E_coli_1000000x400_ind3_sub0.fastq_Voss_indicators_250kmer_PAA_008complvl_non_exhaustive_settings_non_shuffle_reads_KNN_5.txt': 3877,\n",
       " 'sim_E_coli_1000000x400_ind3_sub0.fastq_Voss_indicators_300kmer_DFT_008complvl_non_exhaustive_settings_non_shuffle_reads_KNN_5.txt': 4609,\n",
       " 'sim_E_coli_1000000x400_ind3_sub0.fastq_Voss_indicators_300kmer_DWT_008complvl_non_exhaustive_settings_non_shuffle_reads_KNN_5.txt': 3437,\n",
       " 'sim_E_coli_1000000x400_ind3_sub0.fastq_Voss_indicators_300kmer_PAA_008complvl_non_exhaustive_settings_non_shuffle_reads_KNN_5.txt': 3752,\n",
       " 'sim_E_coli_1000000x400_ind3_sub3.fastq_Voss_indicators_100kmer_DFT_008complvl_non_exhaustive_settings_non_shuffle_reads_KNN_5.txt': 5146,\n",
       " 'sim_E_coli_1000000x400_ind3_sub3.fastq_Voss_indicators_100kmer_DWT_008complvl_non_exhaustive_settings_non_shuffle_reads_KNN_5.txt': 3839,\n",
       " 'sim_E_coli_1000000x400_ind3_sub3.fastq_Voss_indicators_100kmer_PAA_008complvl_non_exhaustive_settings_non_shuffle_reads_KNN_5.txt': 4124,\n",
       " 'sim_E_coli_1000000x400_ind3_sub3.fastq_Voss_indicators_150kmer_DFT_008complvl_non_exhaustive_settings_non_shuffle_reads_KNN_5.txt': 5020,\n",
       " 'sim_E_coli_1000000x400_ind3_sub3.fastq_Voss_indicators_150kmer_DWT_008complvl_non_exhaustive_settings_non_shuffle_reads_KNN_5.txt': 3732,\n",
       " 'sim_E_coli_1000000x400_ind3_sub3.fastq_Voss_indicators_150kmer_PAA_008complvl_non_exhaustive_settings_non_shuffle_reads_KNN_5.txt': 4122,\n",
       " 'sim_E_coli_1000000x400_ind3_sub3.fastq_Voss_indicators_200kmer_DFT_008complvl_non_exhaustive_settings_non_shuffle_reads_KNN_5.txt': 5089,\n",
       " 'sim_E_coli_1000000x400_ind3_sub3.fastq_Voss_indicators_200kmer_DWT_008complvl_non_exhaustive_settings_non_shuffle_reads_KNN_5.txt': 3954,\n",
       " 'sim_E_coli_1000000x400_ind3_sub3.fastq_Voss_indicators_200kmer_PAA_008complvl_non_exhaustive_settings_non_shuffle_reads_KNN_5.txt': 4195,\n",
       " 'sim_E_coli_1000000x400_ind3_sub3.fastq_Voss_indicators_250kmer_DFT_008complvl_non_exhaustive_settings_non_shuffle_reads_KNN_5.txt': 4984,\n",
       " 'sim_E_coli_1000000x400_ind3_sub3.fastq_Voss_indicators_250kmer_DWT_008complvl_non_exhaustive_settings_non_shuffle_reads_KNN_5.txt': 4082,\n",
       " 'sim_E_coli_1000000x400_ind3_sub3.fastq_Voss_indicators_250kmer_PAA_008complvl_non_exhaustive_settings_non_shuffle_reads_KNN_5.txt': 3972,\n",
       " 'sim_E_coli_1000000x400_ind3_sub3.fastq_Voss_indicators_300kmer_DFT_008complvl_non_exhaustive_settings_non_shuffle_reads_KNN_5.txt': 4870,\n",
       " 'sim_E_coli_1000000x400_ind3_sub3.fastq_Voss_indicators_300kmer_DWT_008complvl_non_exhaustive_settings_non_shuffle_reads_KNN_5.txt': 3698,\n",
       " 'sim_E_coli_1000000x400_ind3_sub3.fastq_Voss_indicators_300kmer_PAA_008complvl_non_exhaustive_settings_non_shuffle_reads_KNN_5.txt': 3978,\n",
       " 'sim_E_coli_1000000x400_ind4_sub0.fastq_Voss_indicators_100kmer_DFT_008complvl_non_exhaustive_settings_non_shuffle_reads_KNN_5.txt': 5255,\n",
       " 'sim_E_coli_1000000x400_ind4_sub0.fastq_Voss_indicators_100kmer_DWT_008complvl_non_exhaustive_settings_non_shuffle_reads_KNN_5.txt': 3796,\n",
       " 'sim_E_coli_1000000x400_ind4_sub0.fastq_Voss_indicators_100kmer_PAA_008complvl_non_exhaustive_settings_non_shuffle_reads_KNN_5.txt': 4138,\n",
       " 'sim_E_coli_1000000x400_ind4_sub0.fastq_Voss_indicators_150kmer_DFT_008complvl_non_exhaustive_settings_non_shuffle_reads_KNN_5.txt': 4897,\n",
       " 'sim_E_coli_1000000x400_ind4_sub0.fastq_Voss_indicators_150kmer_DWT_008complvl_non_exhaustive_settings_non_shuffle_reads_KNN_5.txt': 3614,\n",
       " 'sim_E_coli_1000000x400_ind4_sub0.fastq_Voss_indicators_150kmer_PAA_008complvl_non_exhaustive_settings_non_shuffle_reads_KNN_5.txt': 4104,\n",
       " 'sim_E_coli_1000000x400_ind4_sub0.fastq_Voss_indicators_200kmer_DFT_008complvl_non_exhaustive_settings_non_shuffle_reads_KNN_5.txt': 4851,\n",
       " 'sim_E_coli_1000000x400_ind4_sub0.fastq_Voss_indicators_200kmer_DWT_008complvl_non_exhaustive_settings_non_shuffle_reads_KNN_5.txt': 3826,\n",
       " 'sim_E_coli_1000000x400_ind4_sub0.fastq_Voss_indicators_200kmer_PAA_008complvl_non_exhaustive_settings_non_shuffle_reads_KNN_5.txt': 4111,\n",
       " 'sim_E_coli_1000000x400_ind4_sub0.fastq_Voss_indicators_250kmer_DFT_008complvl_non_exhaustive_settings_non_shuffle_reads_KNN_5.txt': 5093,\n",
       " 'sim_E_coli_1000000x400_ind4_sub0.fastq_Voss_indicators_250kmer_DWT_008complvl_non_exhaustive_settings_non_shuffle_reads_KNN_5.txt': 4094,\n",
       " 'sim_E_coli_1000000x400_ind4_sub0.fastq_Voss_indicators_250kmer_PAA_008complvl_non_exhaustive_settings_non_shuffle_reads_KNN_5.txt': 3776,\n",
       " 'sim_E_coli_1000000x400_ind4_sub0.fastq_Voss_indicators_300kmer_DFT_008complvl_non_exhaustive_settings_non_shuffle_reads_KNN_5.txt': 4670,\n",
       " 'sim_E_coli_1000000x400_ind4_sub0.fastq_Voss_indicators_300kmer_DWT_008complvl_non_exhaustive_settings_non_shuffle_reads_KNN_5.txt': 3674,\n",
       " 'sim_E_coli_1000000x400_ind4_sub0.fastq_Voss_indicators_300kmer_PAA_008complvl_non_exhaustive_settings_non_shuffle_reads_KNN_5.txt': 4028,\n",
       " 'sim_E_coli_1000000x400_ind4_sub4.fastq_Voss_indicators_100kmer_DFT_008complvl_non_exhaustive_settings_non_shuffle_reads_KNN_5.txt': 5448,\n",
       " 'sim_E_coli_1000000x400_ind4_sub4.fastq_Voss_indicators_100kmer_DWT_008complvl_non_exhaustive_settings_non_shuffle_reads_KNN_5.txt': 4020,\n",
       " 'sim_E_coli_1000000x400_ind4_sub4.fastq_Voss_indicators_100kmer_PAA_008complvl_non_exhaustive_settings_non_shuffle_reads_KNN_5.txt': 4314,\n",
       " 'sim_E_coli_1000000x400_ind4_sub4.fastq_Voss_indicators_150kmer_DFT_008complvl_non_exhaustive_settings_non_shuffle_reads_KNN_5.txt': 5020,\n",
       " 'sim_E_coli_1000000x400_ind4_sub4.fastq_Voss_indicators_150kmer_DWT_008complvl_non_exhaustive_settings_non_shuffle_reads_KNN_5.txt': 3800,\n",
       " 'sim_E_coli_1000000x400_ind4_sub4.fastq_Voss_indicators_150kmer_PAA_008complvl_non_exhaustive_settings_non_shuffle_reads_KNN_5.txt': 4232,\n",
       " 'sim_E_coli_1000000x400_ind4_sub4.fastq_Voss_indicators_200kmer_DFT_008complvl_non_exhaustive_settings_non_shuffle_reads_KNN_5.txt': 5327,\n",
       " 'sim_E_coli_1000000x400_ind4_sub4.fastq_Voss_indicators_200kmer_DWT_008complvl_non_exhaustive_settings_non_shuffle_reads_KNN_5.txt': 4090,\n",
       " 'sim_E_coli_1000000x400_ind4_sub4.fastq_Voss_indicators_200kmer_PAA_008complvl_non_exhaustive_settings_non_shuffle_reads_KNN_5.txt': 4248,\n",
       " 'sim_E_coli_1000000x400_ind4_sub4.fastq_Voss_indicators_250kmer_DFT_008complvl_non_exhaustive_settings_non_shuffle_reads_KNN_5.txt': 5283,\n",
       " 'sim_E_coli_1000000x400_ind4_sub4.fastq_Voss_indicators_250kmer_DWT_008complvl_non_exhaustive_settings_non_shuffle_reads_KNN_5.txt': 4243,\n",
       " 'sim_E_coli_1000000x400_ind4_sub4.fastq_Voss_indicators_250kmer_PAA_008complvl_non_exhaustive_settings_non_shuffle_reads_KNN_5.txt': 4192,\n",
       " 'sim_E_coli_1000000x400_ind4_sub4.fastq_Voss_indicators_300kmer_DFT_008complvl_non_exhaustive_settings_non_shuffle_reads_KNN_5.txt': 4955,\n",
       " 'sim_E_coli_1000000x400_ind4_sub4.fastq_Voss_indicators_300kmer_DWT_008complvl_non_exhaustive_settings_non_shuffle_reads_KNN_5.txt': 3930,\n",
       " 'sim_E_coli_1000000x400_ind4_sub4.fastq_Voss_indicators_300kmer_PAA_008complvl_non_exhaustive_settings_non_shuffle_reads_KNN_5.txt': 4224,\n",
       " 'sim_E_coli_1000000x400_ind5_sub0.fastq_Voss_indicators_100kmer_DFT_008complvl_non_exhaustive_settings_non_shuffle_reads_KNN_5.txt': 5226,\n",
       " 'sim_E_coli_1000000x400_ind5_sub0.fastq_Voss_indicators_100kmer_DWT_008complvl_non_exhaustive_settings_non_shuffle_reads_KNN_5.txt': 3888,\n",
       " 'sim_E_coli_1000000x400_ind5_sub0.fastq_Voss_indicators_100kmer_PAA_008complvl_non_exhaustive_settings_non_shuffle_reads_KNN_5.txt': 4222,\n",
       " 'sim_E_coli_1000000x400_ind5_sub0.fastq_Voss_indicators_150kmer_DFT_008complvl_non_exhaustive_settings_non_shuffle_reads_KNN_5.txt': 4899,\n",
       " 'sim_E_coli_1000000x400_ind5_sub0.fastq_Voss_indicators_150kmer_DWT_008complvl_non_exhaustive_settings_non_shuffle_reads_KNN_5.txt': 3718,\n",
       " 'sim_E_coli_1000000x400_ind5_sub0.fastq_Voss_indicators_150kmer_PAA_008complvl_non_exhaustive_settings_non_shuffle_reads_KNN_5.txt': 4205,\n",
       " 'sim_E_coli_1000000x400_ind5_sub0.fastq_Voss_indicators_200kmer_DFT_008complvl_non_exhaustive_settings_non_shuffle_reads_KNN_5.txt': 5066,\n",
       " 'sim_E_coli_1000000x400_ind5_sub0.fastq_Voss_indicators_200kmer_DWT_008complvl_non_exhaustive_settings_non_shuffle_reads_KNN_5.txt': 4010,\n",
       " 'sim_E_coli_1000000x400_ind5_sub0.fastq_Voss_indicators_200kmer_PAA_008complvl_non_exhaustive_settings_non_shuffle_reads_KNN_5.txt': 4187,\n",
       " 'sim_E_coli_1000000x400_ind5_sub0.fastq_Voss_indicators_250kmer_DFT_008complvl_non_exhaustive_settings_non_shuffle_reads_KNN_5.txt': 4865,\n",
       " 'sim_E_coli_1000000x400_ind5_sub0.fastq_Voss_indicators_250kmer_DWT_008complvl_non_exhaustive_settings_non_shuffle_reads_KNN_5.txt': 4199,\n",
       " 'sim_E_coli_1000000x400_ind5_sub0.fastq_Voss_indicators_250kmer_PAA_008complvl_non_exhaustive_settings_non_shuffle_reads_KNN_5.txt': 4062,\n",
       " 'sim_E_coli_1000000x400_ind5_sub0.fastq_Voss_indicators_300kmer_DFT_008complvl_non_exhaustive_settings_non_shuffle_reads_KNN_5.txt': 4742,\n",
       " 'sim_E_coli_1000000x400_ind5_sub0.fastq_Voss_indicators_300kmer_DWT_008complvl_non_exhaustive_settings_non_shuffle_reads_KNN_5.txt': 3736,\n",
       " 'sim_E_coli_1000000x400_ind5_sub0.fastq_Voss_indicators_300kmer_PAA_008complvl_non_exhaustive_settings_non_shuffle_reads_KNN_5.txt': 4152,\n",
       " 'sim_E_coli_1000000x400_ind5_sub5.fastq_Voss_indicators_100kmer_DFT_008complvl_non_exhaustive_settings_non_shuffle_reads_KNN_5.txt': 5562,\n",
       " 'sim_E_coli_1000000x400_ind5_sub5.fastq_Voss_indicators_100kmer_DWT_008complvl_non_exhaustive_settings_non_shuffle_reads_KNN_5.txt': 4109,\n",
       " 'sim_E_coli_1000000x400_ind5_sub5.fastq_Voss_indicators_100kmer_PAA_008complvl_non_exhaustive_settings_non_shuffle_reads_KNN_5.txt': 4480,\n",
       " 'sim_E_coli_1000000x400_ind5_sub5.fastq_Voss_indicators_150kmer_DFT_008complvl_non_exhaustive_settings_non_shuffle_reads_KNN_5.txt': 5149,\n",
       " 'sim_E_coli_1000000x400_ind5_sub5.fastq_Voss_indicators_150kmer_DWT_008complvl_non_exhaustive_settings_non_shuffle_reads_KNN_5.txt': 3990,\n",
       " 'sim_E_coli_1000000x400_ind5_sub5.fastq_Voss_indicators_150kmer_PAA_008complvl_non_exhaustive_settings_non_shuffle_reads_KNN_5.txt': 4361,\n",
       " 'sim_E_coli_1000000x400_ind5_sub5.fastq_Voss_indicators_200kmer_DFT_008complvl_non_exhaustive_settings_non_shuffle_reads_KNN_5.txt': 5207,\n",
       " 'sim_E_coli_1000000x400_ind5_sub5.fastq_Voss_indicators_200kmer_DWT_008complvl_non_exhaustive_settings_non_shuffle_reads_KNN_5.txt': 4206,\n",
       " 'sim_E_coli_1000000x400_ind5_sub5.fastq_Voss_indicators_200kmer_PAA_008complvl_non_exhaustive_settings_non_shuffle_reads_KNN_5.txt': 4411,\n",
       " 'sim_E_coli_1000000x400_ind5_sub5.fastq_Voss_indicators_250kmer_DFT_008complvl_non_exhaustive_settings_non_shuffle_reads_KNN_5.txt': 5266,\n",
       " 'sim_E_coli_1000000x400_ind5_sub5.fastq_Voss_indicators_250kmer_DWT_008complvl_non_exhaustive_settings_non_shuffle_reads_KNN_5.txt': 4375,\n",
       " 'sim_E_coli_1000000x400_ind5_sub5.fastq_Voss_indicators_250kmer_PAA_008complvl_non_exhaustive_settings_non_shuffle_reads_KNN_5.txt': 4215,\n",
       " 'sim_E_coli_1000000x400_ind5_sub5.fastq_Voss_indicators_300kmer_DFT_008complvl_non_exhaustive_settings_non_shuffle_reads_KNN_5.txt': 4985,\n",
       " 'sim_E_coli_1000000x400_ind5_sub5.fastq_Voss_indicators_300kmer_DWT_008complvl_non_exhaustive_settings_non_shuffle_reads_KNN_5.txt': 4028,\n",
       " 'sim_E_coli_1000000x400_ind5_sub5.fastq_Voss_indicators_300kmer_PAA_008complvl_non_exhaustive_settings_non_shuffle_reads_KNN_5.txt': 4275}"
      ]
     },
     "execution_count": 6,
     "metadata": {},
     "output_type": "execute_result"
    }
   ],
   "source": [
    "ts_path = root_path + 'last_resort_ecoli/'\n",
    "\n",
    "approaches = ('dft', 'dwt', 'paa')\n",
    "\n",
    "timings_ts = {}\n",
    "\n",
    "for approach in approaches:\n",
    "    for fn in os.listdir(f'{ts_path}ecoli_{approach}/'):\n",
    "        if fn.startswith('sim_E_coli_'):\n",
    "            secs = 0\n",
    "            with open(f'{ts_path}ecoli_{approach}/{fn}', 'r') as  summary_fh:\n",
    "                for line in summary_fh:\n",
    "                    if line.startswith('> Overall alignment time '):\n",
    "                        secs = int(line.partition('> Overall alignment time ')[2].partition(' in seconds')[0])\n",
    "                        timings_ts[fn] = secs\n",
    "\n",
    "timings_ts"
   ]
  },
  {
   "cell_type": "code",
   "execution_count": 7,
   "metadata": {},
   "outputs": [],
   "source": [
    "timings_ts_dft = {fn: secs for fn, secs in timings_ts.items() if 'DFT' in fn}\n",
    "timings_ts_dwt = {fn: secs for fn, secs in timings_ts.items() if 'DWT' in fn}\n",
    "timings_ts_paa = {fn: secs for fn, secs in timings_ts.items() if 'PAA' in fn}"
   ]
  },
  {
   "cell_type": "markdown",
   "metadata": {},
   "source": [
    "**Since results comprise tests for six *k*-mers, we consider the mean case:**"
   ]
  },
  {
   "cell_type": "code",
   "execution_count": 10,
   "metadata": {},
   "outputs": [],
   "source": [
    "overall_timings['ts-dft'] = int(sum([secs for secs in timings_ts_dft.values()])/6)\n",
    "overall_timings['ts-dwt'] = int(sum([secs for secs in timings_ts_dwt.values()])/6)\n",
    "overall_timings['ts-paa'] = int(sum([secs for secs in timings_ts_paa.values()])/6)"
   ]
  },
  {
   "cell_type": "code",
   "execution_count": 11,
   "metadata": {},
   "outputs": [
    {
     "data": {
      "text/plain": [
       "{'bt2': 58660,\n",
       " 'bwa': 13925,\n",
       " 'mosaik': 25129,\n",
       " 'segemehl': 196682,\n",
       " 'ts-dft': 59319,\n",
       " 'ts-dwt': 44716,\n",
       " 'ts-paa': 47747}"
      ]
     },
     "execution_count": 11,
     "metadata": {},
     "output_type": "execute_result"
    }
   ],
   "source": [
    "overall_timings"
   ]
  },
  {
   "cell_type": "markdown",
   "metadata": {},
   "source": [
    "**One result missing for two of the implementations:**"
   ]
  },
  {
   "cell_type": "code",
   "execution_count": 8,
   "metadata": {},
   "outputs": [
    {
     "name": "stdout",
     "output_type": "stream",
     "text": [
      "80\n",
      "79\n",
      "79\n"
     ]
    }
   ],
   "source": [
    "print(len(timings_ts_dft))\n",
    "print(len(timings_ts_dwt))\n",
    "print(len(timings_ts_paa))"
   ]
  },
  {
   "cell_type": "markdown",
   "metadata": {},
   "source": [
    "**Throughput calculation**\n",
    "\n",
    "```\n",
    "16*(400*1000000)/<time in seconds>\n",
    "/100 for kbp\n",
    "\n",
    "```"
   ]
  },
  {
   "cell_type": "code",
   "execution_count": 17,
   "metadata": {},
   "outputs": [
    {
     "data": {
      "text/plain": [
       "{'bt2': 109103,\n",
       " 'bwa': 459605,\n",
       " 'mosaik': 254686,\n",
       " 'segemehl': 32540,\n",
       " 'ts-dft': 107891,\n",
       " 'ts-dwt': 143126,\n",
       " 'ts-paa': 134040}"
      ]
     },
     "execution_count": 17,
     "metadata": {},
     "output_type": "execute_result"
    }
   ],
   "source": [
    "overall_throughput = {}\n",
    "for aligner, timing in overall_timings.items():\n",
    "    overall_throughput[aligner] = int(round(16*(400*1000000)/timing, 0))\n",
    "\n",
    "overall_throughput"
   ]
  }
 ],
 "metadata": {
  "kernelspec": {
   "display_name": "Python 3",
   "language": "python",
   "name": "python3"
  },
  "language_info": {
   "codemirror_mode": {
    "name": "ipython",
    "version": 3
   },
   "file_extension": ".py",
   "mimetype": "text/x-python",
   "name": "python",
   "nbconvert_exporter": "python",
   "pygments_lexer": "ipython3",
   "version": "3.6.5"
  }
 },
 "nbformat": 4,
 "nbformat_minor": 2
}
